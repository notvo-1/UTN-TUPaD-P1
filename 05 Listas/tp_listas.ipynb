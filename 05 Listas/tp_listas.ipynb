{
 "cells": [
  {
   "cell_type": "markdown",
   "id": "1212723e",
   "metadata": {},
   "source": [
    "1) Crear una lista con los números del 1 al 100 que sean múltiplos de 4. Utilizar la función range."
   ]
  },
  {
   "cell_type": "code",
   "execution_count": 3,
   "id": "0acbf5e1",
   "metadata": {},
   "outputs": [
    {
     "name": "stdout",
     "output_type": "stream",
     "text": [
      "[1, 2, 3, 4, 5, 6, 7, 8, 9, 10, 11, 12, 13, 14, 15, 16, 17, 18, 19, 20, 21, 22, 23, 24, 25, 26, 27, 28, 29, 30, 31, 32, 33, 34, 35, 36, 37, 38, 39, 40, 41, 42, 43, 44, 45, 46, 47, 48, 49, 50, 51, 52, 53, 54, 55, 56, 57, 58, 59, 60, 61, 62, 63, 64, 65, 66, 67, 68, 69, 70, 71, 72, 73, 74, 75, 76, 77, 78, 79, 80, 81, 82, 83, 84, 85, 86, 87, 88, 89, 90, 91, 92, 93, 94, 95, 96, 97, 98, 99, 100]\n"
     ]
    }
   ],
   "source": [
    "lista_1 = list(range(1,101))\n",
    "print(lista_1)"
   ]
  },
  {
   "cell_type": "markdown",
   "id": "cb65dea2",
   "metadata": {},
   "source": [
    "2) Crear una lista con cinco elementos (colocar los elementos que más te gusten) y mostrar el penúltimo. ¡Puedes hacerlo como se muestra en los videos o bien investigar cómo funciona el indexing con números negativos!"
   ]
  },
  {
   "cell_type": "code",
   "execution_count": 5,
   "id": "8ef5ccfb",
   "metadata": {},
   "outputs": [
    {
     "name": "stdout",
     "output_type": "stream",
     "text": [
      "penultimo\n",
      "penultimo\n"
     ]
    }
   ],
   "source": [
    "lista_2 = [\"hola\", \"mundo\", \"!\", \"penultimo\", 2]\n",
    "print(lista_2[3])\n",
    "print(lista_2[-2])"
   ]
  },
  {
   "cell_type": "markdown",
   "id": "c7050a1a",
   "metadata": {},
   "source": [
    "3) Crear una lista vacía, agregar tres palabras con append e imprimir la lista resultante por pantalla. Pista: para crear una lista vacía debes colocar los corchetes sin nada en su interior. Por ejemplo: lista_vacia = []"
   ]
  },
  {
   "cell_type": "code",
   "execution_count": 7,
   "id": "13ffe1dc",
   "metadata": {},
   "outputs": [
    {
     "name": "stdout",
     "output_type": "stream",
     "text": [
      "['Hola', 'mundo', '!']\n"
     ]
    }
   ],
   "source": [
    "lista_vacia = []\n",
    "lista_vacia.append(\"Hola\")\n",
    "lista_vacia.append(\"mundo\")\n",
    "lista_vacia.append(\"!\")\n",
    "print(lista_vacia)"
   ]
  },
  {
   "cell_type": "markdown",
   "id": "8300bb68",
   "metadata": {},
   "source": [
    "4) Reemplazar el segundo y último valor de la lista “animales” con las palabras “loro” y “oso”, respectivamente. Imprimir la lista resultante por pantalla. ¡Puedes hacerlo como se muestra en los videos o bien investigar cómo funciona el indexing con números negativos! animales = [\"perro\", \"gato\", \"conejo\", \"pez\"]"
   ]
  },
  {
   "cell_type": "code",
   "execution_count": 8,
   "id": "65209417",
   "metadata": {},
   "outputs": [
    {
     "name": "stdout",
     "output_type": "stream",
     "text": [
      "['perro', 'loro', 'conejo', 'oso']\n"
     ]
    }
   ],
   "source": [
    "animales = [\"perro\", \"gato\", \"conejo\", \"pez\"]\n",
    "animales[1]=\"loro\"\n",
    "animales[-1]=\"oso\"\n",
    "print(animales)"
   ]
  },
  {
   "attachments": {
    "image.png": {
     "image/png": "[encoded data removed]"
    }
   },
   "cell_type": "markdown",
   "id": "9974915b",
   "metadata": {},
   "source": [
    "5) Analizar el siguiente programa y explicar con tus palabras qué es lo que realiza.\n",
    "\n",
    "\n",
    "![image.png](attachment:image.png)"
   ]
  },
  {
   "cell_type": "markdown",
   "id": "6be30b9f",
   "metadata": {},
   "source": [
    "El programa remueve el numero maximo de la lista numeros. Para hacerlo utiliza la funcion remove() y como argumento la funcion max(numeros) que devuelve el numero mayo de la lista, en este caso 22."
   ]
  },
  {
   "cell_type": "markdown",
   "id": "39aa15ca",
   "metadata": {},
   "source": [
    "6) Crear una lista con números del 10 al 30 (incluído), haciendo saltos de 5 en 5 y mostrar por pantalla los dos primeros."
   ]
  },
  {
   "cell_type": "code",
   "execution_count": 11,
   "id": "2de1e88d",
   "metadata": {},
   "outputs": [
    {
     "name": "stdout",
     "output_type": "stream",
     "text": [
      "[10, 15]\n"
     ]
    }
   ],
   "source": [
    "lista_6 = [i for i in range(10,31,5)] \n",
    "\n",
    "print(lista_6[0:2])"
   ]
  },
  {
   "cell_type": "markdown",
   "id": "2ceba31b",
   "metadata": {},
   "source": [
    "7) Reemplazar los dos valores centrales (índices 1 y 2) de la lista “autos” por dos nuevos valores cualesquiera. autos = [\"sedan\", \"polo\", \"suran\", \"gol\"]"
   ]
  },
  {
   "cell_type": "code",
   "execution_count": 12,
   "id": "8650f0a3",
   "metadata": {},
   "outputs": [
    {
     "name": "stdout",
     "output_type": "stream",
     "text": [
      "['sedan', 'corolla', 'hilux', 'gol']\n"
     ]
    }
   ],
   "source": [
    "autos = [\"sedan\", \"polo\", \"suran\", \"gol\"]\n",
    "autos[1:3]=[\"corolla\", \"hilux\"]\n",
    "print(autos)"
   ]
  },
  {
   "cell_type": "markdown",
   "id": "e2fb6216",
   "metadata": {},
   "source": [
    "8) Crear una lista vacía llamada \"dobles\" y agregar el doble de 5, 10 y 15 usando append directamente. Imprimir la lista resultante por pantalla."
   ]
  },
  {
   "cell_type": "code",
   "execution_count": 15,
   "id": "201515d7",
   "metadata": {},
   "outputs": [
    {
     "name": "stdout",
     "output_type": "stream",
     "text": [
      "[10, 20, 30]\n"
     ]
    }
   ],
   "source": [
    "dobles = []\n",
    "numeros = [5, 10 ,15]\n",
    "\n",
    "for i in numeros:\n",
    "    dobles.append(i*2)\n",
    "print(dobles)"
   ]
  },
  {
   "cell_type": "markdown",
   "id": "cf4045e0",
   "metadata": {},
   "source": [
    "9) Dada la lista “compras”, cuyos elementos representan los productos comprados por diferentes clientes:\n",
    "compras = [[\"pan\", \"leche\"], [\"arroz\", \"fideos\", \"salsa\"], [\"agua\"]]\n",
    "\n",
    "a) Agregar \"jugo\" a la lista del tercer cliente usando append.\n",
    "\n",
    "b) Reemplazar \"fideos\" por \"tallarines\" en la lista del segundo cliente.\n",
    "\n",
    "c) Eliminar \"pan\" de la lista del primer cliente.\n",
    "\n",
    "d) Imprimir la lista resultante por pantalla"
   ]
  },
  {
   "cell_type": "code",
   "execution_count": 18,
   "id": "8a3258e4",
   "metadata": {},
   "outputs": [
    {
     "name": "stdout",
     "output_type": "stream",
     "text": [
      "[['leche'], ['arroz', 'tallarines', 'salsa'], ['agua', 'jugo']]\n"
     ]
    }
   ],
   "source": [
    "compras = [[\"pan\", \"leche\"], [\"arroz\", \"fideos\", \"salsa\"], [\"agua\"]]\n",
    "compras[2].append(\"jugo\")\n",
    "compras[1][1]=\"tallarines\"\n",
    "compras[0].remove(\"pan\")\n",
    "\n",
    "print(compras)"
   ]
  },
  {
   "cell_type": "markdown",
   "id": "7e6b12d5",
   "metadata": {},
   "source": [
    "10) Elaborar una lista anidada llamada “lista_anidada” que contenga los siguientes elementos:\n",
    "\n",
    "    ● Posición lista_anidada[0]: 15\n",
    "\n",
    "    ● Posición lista_anidada[1]: True\n",
    "\n",
    "    ● Posición lista_anidada[2][0]: 25.5\n",
    "\n",
    "    ● Posición lista_anidada[2][1]: 57.9\n",
    "\n",
    "    ● Posición lista_anidada[2][2]: 30.6\n",
    "\n",
    "    ● Posición lista_anidada[3]: False\n",
    "\n",
    "Imprimir la lista resultante por pantalla."
   ]
  },
  {
   "cell_type": "code",
   "execution_count": 21,
   "id": "e715ac35",
   "metadata": {},
   "outputs": [
    {
     "name": "stdout",
     "output_type": "stream",
     "text": [
      "[15, True, [25.5, 57.9, 30.6], False]\n"
     ]
    }
   ],
   "source": [
    "lista_anidada = [15,True,[25.5, 57.9, 30.6],False]\n",
    "\n",
    "print(lista_anidada)\n"
   ]
  }
 ],
 "metadata": {
  "kernelspec": {
   "display_name": ".env",
   "language": "python",
   "name": "python3"
  },
  "language_info": {
   "codemirror_mode": {
    "name": "ipython",
    "version": 3
   },
   "file_extension": ".py",
   "mimetype": "text/x-python",
   "name": "python",
   "nbconvert_exporter": "python",
   "pygments_lexer": "ipython3",
   "version": "3.11.9"
  }
 },
 "nbformat": 4,
 "nbformat_minor": 5
}
