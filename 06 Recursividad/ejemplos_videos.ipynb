{
 "cells": [
  {
   "cell_type": "code",
   "execution_count": 7,
   "id": "5a15c60a",
   "metadata": {},
   "outputs": [],
   "source": [
    "import sys\n",
    "sys.setrecursionlimit(20000)\n",
    "def factorial(x):\n",
    "    f = 1\n",
    "    for i in range(1, x +1):\n",
    "        f *= i\n",
    "    return f\n",
    "\n",
    "def factorial_recur(x):\n",
    "    if x == 0:\n",
    "        return 1\n",
    "    else:\n",
    "        return factorial_recur(x - 1) * x\n",
    "    \n",
    "def factoria_nuevo(x):\n",
    "    return 1 if x == 0 else x * factoria_nuevo(x - 1)"
   ]
  },
  {
   "cell_type": "code",
   "execution_count": 9,
   "id": "ba79eb76",
   "metadata": {},
   "outputs": [
    {
     "name": "stdout",
     "output_type": "stream",
     "text": [
      "720\n",
      "720\n",
      "720\n"
     ]
    }
   ],
   "source": [
    "print(factorial(6))\n",
    "print(factorial_recur(6))\n",
    "print(factoria_nuevo(6))"
   ]
  },
  {
   "cell_type": "code",
   "execution_count": null,
   "id": "7792929e",
   "metadata": {},
   "outputs": [],
   "source": [
    "def sum_list(lista):\n",
    "    if len(lista)==0:\n",
    "        return 0\n",
    "    else:\n",
    "        return lista[0]+sum_list(lista[1:])\n",
    "\n",
    "def rep_frase(num, frase):\n",
    "    if num >= 1:\n",
    "        print(f\"{num} - {frase}\")\n",
    "        rep_frase(num-1, frase)\n",
    "\n",
    "def suma_recursiva(num):\n",
    "    if num == 0:\n",
    "        return 0\n",
    "    else:\n",
    "        return num + suma_recursiva(num - 1)\n",
    "\n",
    "def fibonacci(num):\n",
    "    if num == 0:\n",
    "        return 0\n",
    "    elif num == 1:\n",
    "        return 1\n",
    "    else:\n",
    "        return fibonacci(num-1) + fibonacci(num - 2)\n",
    "\n",
    "def fibonacci_iterativo(n):\n",
    "    a, b = 0, 1\n",
    "    for _ in range(n):\n",
    "        print(a, end=\",\")\n",
    "        a, b = b, a + b\n",
    "        \n",
    "def es_primo(num):\n",
    "    if num <= 1:\n",
    "        \n",
    "def suma_n_primos(num):\n",
    "    pass\n"
   ]
  },
  {
   "cell_type": "code",
   "execution_count": null,
   "id": "ab847ca6",
   "metadata": {},
   "outputs": [],
   "source": [
    "# lista = [1,2,3,4,5]\n",
    "# print(sum_list(lista))\n",
    "\n",
    "# rep_frase(6, \"Hola!\")\n",
    "\n",
    "# suma_recursiva(10)\n",
    "# res = []\n",
    "# for i in range(10):\n",
    "#     res.append(fibonacci(i))\n",
    "# print(res)\n"
   ]
  },
  {
   "cell_type": "code",
   "execution_count": null,
   "id": "b1b4fcee",
   "metadata": {},
   "outputs": [],
   "source": []
  }
 ],
 "metadata": {
  "kernelspec": {
   "display_name": ".env",
   "language": "python",
   "name": "python3"
  },
  "language_info": {
   "codemirror_mode": {
    "name": "ipython",
    "version": 3
   },
   "file_extension": ".py",
   "mimetype": "text/x-python",
   "name": "python",
   "nbconvert_exporter": "python",
   "pygments_lexer": "ipython3",
   "version": "3.11.9"
  }
 },
 "nbformat": 4,
 "nbformat_minor": 5
}
