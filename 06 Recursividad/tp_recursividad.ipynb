{
 "cells": [
  {
   "cell_type": "markdown",
   "id": "1513d49f",
   "metadata": {},
   "source": [
    "Práctico 11: Aplicación de la Recursividad"
   ]
  },
  {
   "cell_type": "markdown",
   "id": "956292a1",
   "metadata": {},
   "source": [
    "1) Crea una función recursiva que calcule el factorial de un número. Luego, utiliza esa función para calcular y mostrar en pantalla el factorial de todos los números enteros entre 1 y el número que indique el usuario"
   ]
  },
  {
   "cell_type": "code",
   "execution_count": 2,
   "id": "02e152a4",
   "metadata": {},
   "outputs": [
    {
     "name": "stdout",
     "output_type": "stream",
     "text": [
      "El factorial de 1 es 1.\n",
      "El factorial de 2 es 2.\n",
      "El factorial de 3 es 6.\n",
      "El factorial de 4 es 24.\n",
      "El factorial de 5 es 120.\n"
     ]
    }
   ],
   "source": [
    "def factorial(num):\n",
    "    if num == 1:\n",
    "        return 1\n",
    "    else:\n",
    "        return num * factorial(num-1)\n",
    "\n",
    "def factoria_entre(num):\n",
    "    for i in range(1, num+1):\n",
    "        print(f\"El factorial de {i} es {factorial(i)}.\")\n",
    "    \n",
    "if __name__ == \"__main__\":\n",
    "    num = int(input(\"Ingrese un numero entero positivo para calcular en ese rango\"))\n",
    "    factoria_entre(num)"
   ]
  },
  {
   "cell_type": "markdown",
   "id": "304cd604",
   "metadata": {},
   "source": [
    "2) Crea una función recursiva que calcule el valor de la serie de Fibonacci en la posición indicada. Posteriormente, muestra la serie completa hasta la posición que el usuario especifique."
   ]
  },
  {
   "cell_type": "code",
   "execution_count": 5,
   "id": "7dd2fb10",
   "metadata": {},
   "outputs": [
    {
     "name": "stdout",
     "output_type": "stream",
     "text": [
      "El valor fibo para 0 es 0\n",
      "El valor fibo para 1 es 1\n",
      "El valor fibo para 2 es 1\n",
      "El valor fibo para 3 es 2\n",
      "El valor fibo para 4 es 3\n",
      "El valor fibo para 5 es 5\n",
      "El valor fibo para 6 es 8\n",
      "El valor fibo para 7 es 13\n",
      "El valor fibo para 8 es 21\n",
      "El valor fibo para 9 es 34\n",
      "El valor fibo para 10 es 55\n"
     ]
    }
   ],
   "source": [
    "def fibonacci(num):\n",
    "    if num <= 1:\n",
    "        return num\n",
    "    else:\n",
    "        return fibonacci(num-2) + fibonacci(num-1)\n",
    "def fibo_entre(num):\n",
    "    for i in range(num +1):\n",
    "        print(f\"El valor fibo para {i} es {fibonacci(i)}\")\n",
    "\n",
    "\n",
    "if __name__ == \"__main__\":\n",
    "    num = int(input(\"Ingrese un numero entero positivo\"))\n",
    "    fibo_entre(num)        \n"
   ]
  },
  {
   "cell_type": "markdown",
   "id": "dc944605",
   "metadata": {},
   "source": [
    "3) Crea una función recursiva que calcule la potencia de un número base elevado a un exponente, utilizando la fórmula 𝑛𝑚= 𝑛∗𝑛(𝑚−1). Prueba esta función en un algoritmo general."
   ]
  },
  {
   "cell_type": "code",
   "execution_count": 7,
   "id": "28d20258",
   "metadata": {},
   "outputs": [
    {
     "name": "stdout",
     "output_type": "stream",
     "text": [
      "La potencia recursiva para la base 3 elevado a 4 es 81\n"
     ]
    }
   ],
   "source": [
    "def potencia_recursiva(num, base):\n",
    "    if num == 0:\n",
    "        return 1\n",
    "    else:\n",
    "        return base * potencia_recursiva(num - 1, base)\n",
    "    \n",
    "if __name__ == \"__main__\":\n",
    "    base = int(input(\"Ingrese un numero entero positivo para ser la base del calculod de potencia recursiva\"))\n",
    "    num = int(input(\"Ingrese el numero que sera el exponente\"))\n",
    "    \n",
    "    print(f\"La potencia recursiva para la base {base} elevado a {num} es {potencia_recursiva(num, base)}\")"
   ]
  },
  {
   "cell_type": "markdown",
   "id": "c012f5f7",
   "metadata": {},
   "source": [
    "4) Crear una función recursiva en Python que reciba un número entero positivo en base decimal y devuelva su representación en binario como una cadena de texto."
   ]
  },
  {
   "cell_type": "code",
   "execution_count": 8,
   "id": "a0224b93",
   "metadata": {},
   "outputs": [
    {
     "name": "stdout",
     "output_type": "stream",
     "text": [
      "1010\n"
     ]
    }
   ],
   "source": [
    "def conv_decimal_binario(dec):\n",
    "    if dec == 0:\n",
    "        return \"0\"\n",
    "    elif dec == 1:\n",
    "        return \"1\"\n",
    "    else:\n",
    "        return conv_decimal_binario(dec//2) + str(dec%2)\n",
    "    \n",
    "if __name__ == \"__main__\":\n",
    "    num_dec = int(input(\"Ingrese un numero entero positivo para convertir a binario\"))\n",
    "    print(conv_decimal_binario(num_dec))"
   ]
  },
  {
   "cell_type": "markdown",
   "id": "8d82f66b",
   "metadata": {},
   "source": [
    "5) Implementá una función recursiva llamada es_palindromo(palabra) que reciba una cadena de texto sin espacios ni tildes, y devuelva True si es un palíndromo o False si no lo es.\n",
    "Requisitos:\n",
    "La solución debe ser recursiva.\n",
    "No se debe usar [::-1] ni la función reversed()."
   ]
  },
  {
   "cell_type": "code",
   "execution_count": 16,
   "id": "ae882c42",
   "metadata": {},
   "outputs": [
    {
     "name": "stdout",
     "output_type": "stream",
     "text": [
      "Es palindromo\n",
      "La palabra saippuakivikauppias es palindromo\n"
     ]
    }
   ],
   "source": [
    "def es_palindromo(palabra):\n",
    "    if len(palabra) == 1:\n",
    "        print(\"Es palindromo\")\n",
    "        return True\n",
    "    elif (palabra[:1] == palabra[-1:]) and (es_palindromo(palabra[1:-1])):\n",
    "        return True\n",
    "    else:\n",
    "        print(\"No es palindromo\")\n",
    "        return False\n",
    "\n",
    "def es_palindromo2(palabra):\n",
    "    if len(palabra) == 1:\n",
    "        return True\n",
    "    elif palabra[0] == palabra[-1]:\n",
    "        return es_palindromo2(palabra[1:-1]) \n",
    "    else:\n",
    "        return False    \n",
    "\n",
    "word = \"saippuakivikauppias\"\n",
    "\n",
    "es_palindromo(word)\n",
    "\n",
    "\n",
    "if es_palindromo2(word):\n",
    "    print(f\"La palabra {word} es palindromo\")\n",
    "else:\n",
    "    print(f\"La palabra {word} NO es palindromo\")\n",
    "        "
   ]
  },
  {
   "cell_type": "markdown",
   "id": "c708ac45",
   "metadata": {},
   "source": [
    "6) Escribí una función recursiva en Python llamada suma_digitos(n) que reciba un número entero positivo y devuelva la suma de todos sus dígitos.\n",
    "Restricciones:\n",
    "No se puede convertir el número a string.\n",
    "Usá operaciones matemáticas (%, //) y recursión.\n",
    "Ejemplos:\n",
    "suma_digitos(1234) → 10 (1 + 2 + 3 + 4)\n",
    "suma_digitos(9) → 9\n",
    "suma_digitos(305) → 8 (3 + 0 + 5)"
   ]
  },
  {
   "cell_type": "code",
   "execution_count": 25,
   "id": "0eaf64b6",
   "metadata": {},
   "outputs": [
    {
     "name": "stdout",
     "output_type": "stream",
     "text": [
      "La suma de los digitos del numero 99812726656734782347890789047894234234234 es 206\n"
     ]
    }
   ],
   "source": [
    "def suma_digitos(n):\n",
    "    if n < 10:\n",
    "        return n\n",
    "    else: \n",
    "        return (n%10) + suma_digitos(n//10)\n",
    "    \n",
    "if __name__ == \"__main__\":\n",
    "    numero = int(input(\"Ingrese un numero entero positivo\"))\n",
    "    print(f\"La suma de los digitos del numero {numero} es {suma_digitos(numero)}\")"
   ]
  },
  {
   "cell_type": "markdown",
   "id": "1b156e52",
   "metadata": {},
   "source": [
    "7) Un niño está construyendo una pirámide con bloques. En el nivel más bajo coloca n bloques, en el siguiente nivel uno menos (n - 1), y así sucesivamente hasta llegar al último nivel con un solo bloque.\n",
    "\n",
    "    Escribí una función recursiva contar_bloques(n) que reciba el número de bloques en el nivel más bajo y devuelva el total de bloques que necesita para construir toda la pirámide.\n",
    "\n",
    "    Ejemplos:\n",
    "\n",
    "    contar_bloques(1) → 1 (1)\n",
    "\n",
    "    contar_bloques(2) → 3 (2 + 1)\n",
    "\n",
    "    contar_bloques(4) → 10 (4 + 3 + 2 + 1)"
   ]
  },
  {
   "cell_type": "code",
   "execution_count": 26,
   "id": "a89fa378",
   "metadata": {},
   "outputs": [
    {
     "name": "stdout",
     "output_type": "stream",
     "text": [
      "Para un triangulo de base 10 se van a necesitar 55\n"
     ]
    }
   ],
   "source": [
    "def contar_bloques(n):\n",
    "    if n == 0:\n",
    "        return 0\n",
    "    else:\n",
    "        return n + contar_bloques(n-1)\n",
    "    \n",
    "if __name__ == \"__main__\":\n",
    "    numero = int(input(\"Ingresa el numero de bloques que tendra la base del triangulo\"))\n",
    "    print(f\"Para un triangulo de base {numero} se van a necesitar {contar_bloques(numero)}\")"
   ]
  },
  {
   "cell_type": "code",
   "execution_count": 37,
   "id": "b8265316",
   "metadata": {},
   "outputs": [
    {
     "name": "stdout",
     "output_type": "stream",
     "text": [
      "La cantidad de cubos que se necesita para una piramide de base 9 es 14 y 3 niveles.\n"
     ]
    }
   ],
   "source": [
    "def contar_bloques_3d(num):\n",
    "    if num == 0:\n",
    "        return 0\n",
    "    else:\n",
    "        return (num * num) + contar_bloques_3d(num-1)\n",
    "    \n",
    "    \n",
    "if __name__ == \"__main__\":\n",
    "    numero = int(input(\"Ingrese el numero de cubos de un lado de la piramide\"))\n",
    "    resultado= contar_bloques_3d(numero)\n",
    "    print(f\"La cantidad de cubos que se necesita para una piramide de base {numero*numero} es {resultado} y {numero} niveles.\")"
   ]
  },
  {
   "cell_type": "code",
   "execution_count": 31,
   "id": "81f93fc5",
   "metadata": {},
   "outputs": [
    {
     "name": "stdout",
     "output_type": "stream",
     "text": [
      "La cantidad total de cubos necesarios es 14, y tiene 3 niveles.\n"
     ]
    }
   ],
   "source": [
    "def contar_bloques_3d(num, count=0):\n",
    "    if num == 0:\n",
    "        return 0, count\n",
    "    else:\n",
    "        total_anterior, count = contar_bloques_3d(num - 1, count)\n",
    "        count += 1\n",
    "        return (num * num) + total_anterior, count\n",
    "\n",
    "\n",
    "if __name__ == \"__main__\":\n",
    "    numero = int(input(\"Ingrese el número de cubos de un lado de la pirámide: \"))\n",
    "    resultado, count = contar_bloques_3d(numero)\n",
    "    print(f\"La cantidad total de cubos necesarios es {resultado}, y tiene {count} niveles.\")\n"
   ]
  },
  {
   "cell_type": "markdown",
   "id": "b5d5e8ab",
   "metadata": {},
   "source": [
    "8) Escribí una función recursiva llamada contar_digito(numero, digito) que reciba un número entero positivo (numero) y un dígito (entre 0 y 9), y   devuelva cuántas veces aparece ese dígito dentro del número.\n",
    "\n",
    "    Ejemplos:\n",
    "\n",
    "    contar_digito(12233421, 2) → 3\n",
    "\n",
    "    contar_digito(5555, 5) → 4\n",
    "\n",
    "    contar_digito(123456, 7) → 0"
   ]
  },
  {
   "cell_type": "code",
   "execution_count": null,
   "id": "b711c14e",
   "metadata": {},
   "outputs": [
    {
     "name": "stdout",
     "output_type": "stream",
     "text": [
      "El digito 2 aparece en el numero 112233445522556622 6\n"
     ]
    }
   ],
   "source": [
    "def contar_digito(numero, digito):\n",
    "    if numero < 10 and numero == digito:\n",
    "        return 1\n",
    "    elif numero < 10 and numero != digito:\n",
    "        return 0\n",
    "    elif numero % 10 == digito:\n",
    "        return 1 + contar_digito(numero//10,digito)\n",
    "    else:\n",
    "        return contar_digito(numero//10,digito)\n",
    "    \n",
    "if __name__ == \"__main__\":\n",
    "    num = int(input(\"Ingrese un numero entero positivo del que se va a buscar un digito\"))\n",
    "    dig = int(input(\"Ingrese un digito que se buscara en el numero\"))\n",
    "    print(f\"El digito {dig} aparece en el numero {num} {contar_digito(num, dig)} veces.\") "
   ]
  },
  {
   "cell_type": "code",
   "execution_count": 42,
   "id": "9b0dfa92",
   "metadata": {},
   "outputs": [
    {
     "name": "stdout",
     "output_type": "stream",
     "text": [
      "0\n",
      "1\n"
     ]
    }
   ],
   "source": [
    "num = 1\n",
    "\n",
    "print(num//10)\n",
    "print(num%10)"
   ]
  }
 ],
 "metadata": {
  "kernelspec": {
   "display_name": ".env",
   "language": "python",
   "name": "python3"
  },
  "language_info": {
   "codemirror_mode": {
    "name": "ipython",
    "version": 3
   },
   "file_extension": ".py",
   "mimetype": "text/x-python",
   "name": "python",
   "nbconvert_exporter": "python",
   "pygments_lexer": "ipython3",
   "version": "3.11.9"
  }
 },
 "nbformat": 4,
 "nbformat_minor": 5
}
