{
 "cells": [
  {
   "cell_type": "code",
   "execution_count": 1,
   "id": "768d4e36",
   "metadata": {},
   "outputs": [],
   "source": [
    "import funciones as fun"
   ]
  },
  {
   "cell_type": "markdown",
   "id": "bb4b1b1d",
   "metadata": {},
   "source": [
    "1. Crear una función llamada imprimir_hola_mundo que imprima por\n",
    "pantalla el mensaje: “Hola Mundo!”. Llamar a esta función desde el\n",
    "programa principal."
   ]
  },
  {
   "cell_type": "code",
   "execution_count": null,
   "id": "f858dede",
   "metadata": {},
   "outputs": [
    {
     "name": "stdout",
     "output_type": "stream",
     "text": [
      "Hola Mundo!\n"
     ]
    }
   ],
   "source": [
    "# Funcion \"Hola Mundo!\"\n",
    "\n",
    "respusta1 = fun.hm()"
   ]
  },
  {
   "cell_type": "markdown",
   "id": "d5a44a64",
   "metadata": {},
   "source": [
    "2. Crear una función llamada saludar_usuario(nombre) que reciba\n",
    "como parámetro un nombre y devuelva un saludo personalizado.\n",
    "Por ejemplo, si se llama con saludar_usuario(\"Marcos\"), deberá devolver:\n",
    "“Hola Marcos!”. Llamar a esta función desde el programa\n",
    "principal solicitando el nombre al usuario."
   ]
  },
  {
   "cell_type": "code",
   "execution_count": 3,
   "id": "ae698a2a",
   "metadata": {},
   "outputs": [
    {
     "name": "stdout",
     "output_type": "stream",
     "text": [
      "Hola Matias!\n"
     ]
    }
   ],
   "source": [
    "\n",
    "def main():\n",
    "    fun.saludar_usuario(input(\"Ingrese su nombre\"))\n",
    "\n",
    "if __name__==\"__main__\":\n",
    "    main()\n"
   ]
  },
  {
   "cell_type": "markdown",
   "id": "9ea87dfd",
   "metadata": {},
   "source": [
    "3. Crear una función llamada informacion_personal(nombre, apellido,\n",
    "edad, residencia) que reciba cuatro parámetros e imprima: “Soy\n",
    "[nombre] [apellido], tengo [edad] años y vivo en [residencia]”. Pedir\n",
    "los datos al usuario y llamar a esta función con los valores ingresados."
   ]
  },
  {
   "cell_type": "code",
   "execution_count": null,
   "id": "7d2b8e61",
   "metadata": {},
   "outputs": [
    {
     "name": "stdout",
     "output_type": "stream",
     "text": [
      "Soy Matias Orellana, tengo 36 años y vivo en Mendoza.\n"
     ]
    }
   ],
   "source": [
    " \n",
    "def main():\n",
    "    nombre = input(\"Ingrese su nombre\")\n",
    "    apellido = input(\"Ingrese su apellido\")\n",
    "    edad = input(\"Ingrese su edad\")\n",
    "    residencia  = input(\"Ingrese su residencia\")\n",
    "    \n",
    "    fun.informacion_personal(nombre, apellido, edad, residencia)\n",
    "    \n",
    "if __name__ == \"__main__\":\n",
    "    main()   "
   ]
  },
  {
   "cell_type": "markdown",
   "id": "fa2f6073",
   "metadata": {},
   "source": [
    "4. Crear dos funciones: calcular_area_circulo(radio) que reciba el radio\n",
    "como parámetro y devuelva el área del círculo. calcular_perimetro_\n",
    "circulo(radio) que reciba el radio como parámetro y devuelva\n",
    "el perímetro del círculo. Solicitar el radio al usuario y llamar ambas\n",
    "funciones para mostrar los resultados."
   ]
  },
  {
   "cell_type": "code",
   "execution_count": null,
   "id": "ec39591a",
   "metadata": {},
   "outputs": [
    {
     "name": "stdout",
     "output_type": "stream",
     "text": [
      "El area y perimetro del circulo con radio 5.0, es: \n",
      "Area: 78.54 cm2\n",
      "Perimetro: 31.42 cm\n"
     ]
    }
   ],
   "source": [
    "def main():\n",
    "    radio = float(input(\"Ingrese el radio del circulo en centimetros\"))\n",
    "    \n",
    "    area = fun.calcular_area_circulo(radio)\n",
    "    perimetro = fun.calcular_perimetro_circulo(radio)\n",
    "    \n",
    "    print(f\"El area y perimetro del circulo con radio {radio}, es: \")\n",
    "    print(f\"Area: {area:.2f} cm2\")\n",
    "    print(f\"Perimetro: {perimetro:.2f} cm\")\n",
    "    \n",
    "    \n",
    "if __name__ == \"__main__\":\n",
    "    main()\n",
    "    \n",
    "    "
   ]
  },
  {
   "cell_type": "markdown",
   "id": "79583063",
   "metadata": {},
   "source": [
    "5. Crear una función llamada segundos_a_horas(segundos) que reciba\n",
    "una cantidad de segundos como parámetro y devuelva la cantidad\n",
    "de horas correspondientes. Solicitar al usuario los segundos y mostrar\n",
    "el resultado usando esta función."
   ]
  },
  {
   "cell_type": "code",
   "execution_count": null,
   "id": "6267ccf7",
   "metadata": {},
   "outputs": [
    {
     "name": "stdout",
     "output_type": "stream",
     "text": [
      "7200 segundos son 2.0 horas.\n"
     ]
    }
   ],
   "source": [
    "def main():\n",
    "    segundos = fun.leer_entero_validado(\"Ingresar la cantidad de segundos para convertirlos a horas\", 1)\n",
    "    horas = fun.segundos_a_horas(segundos)\n",
    "    print(f\"{segundos} segundos son {horas} horas.\")\n",
    "\n",
    "if __name__ == \"__main__\":\n",
    "    main()"
   ]
  },
  {
   "cell_type": "markdown",
   "id": "e5183fbb",
   "metadata": {},
   "source": [
    "6. Crear una función llamada tabla_multiplicar(numero) que reciba un\n",
    "número como parámetro y imprima la tabla de multiplicar de ese\n",
    "número del 1 al 10. Pedir al usuario el número y llamar a la función."
   ]
  },
  {
   "cell_type": "code",
   "execution_count": 5,
   "id": "18111c99",
   "metadata": {},
   "outputs": [
    {
     "name": "stdout",
     "output_type": "stream",
     "text": [
      "0 x 17 = 0\n",
      "1 x 17 = 17\n",
      "2 x 17 = 34\n",
      "3 x 17 = 51\n",
      "4 x 17 = 68\n",
      "5 x 17 = 85\n",
      "6 x 17 = 102\n",
      "7 x 17 = 119\n",
      "8 x 17 = 136\n",
      "9 x 17 = 153\n",
      "10 x 17 = 170\n"
     ]
    }
   ],
   "source": [
    "def main():\n",
    "    numero = fun.leer_entero_validado(\"Ingrese un numero entero positivo para hacer una tabla de multiplicar\", 1)\n",
    "    for i in range(11):\n",
    "        print(f\"{i} x {numero} = {i * numero}\")    \n",
    "if __name__ == \"__main__\":\n",
    "    main()\n",
    "    \n",
    "    "
   ]
  },
  {
   "cell_type": "markdown",
   "id": "91753990",
   "metadata": {},
   "source": [
    "7. Crear una función llamada operaciones_basicas(a, b) que reciba\n",
    "dos números como parámetros y devuelva una tupla con el resultado\n",
    "de sumarlos, restarlos, multiplicarlos y dividirlos. Mostrar los resultados\n",
    "de forma clara."
   ]
  },
  {
   "cell_type": "code",
   "execution_count": 3,
   "id": "761f5322",
   "metadata": {},
   "outputs": [
    {
     "name": "stdout",
     "output_type": "stream",
     "text": [
      "El resultado de las operaciones con los numeros 5 y 5 es (10, 0, 25, 1.0)\n",
      "<class 'tuple'>\n"
     ]
    }
   ],
   "source": [
    "def main():\n",
    "    num1 = fun.leer_entero_validado(\"Ingrese un numero entero positivo\", 1)\n",
    "    num2 = fun.leer_entero_validado(\"Ingrese un numero entero positivo\", 1)\n",
    "    resultado = fun.operaciones_basicas_tupla(num1, num2)\n",
    "    print(f\"El resultado de las operaciones con los numeros {num1} y {num2} es {resultado}\")\n",
    "    print(type(resultado))\n",
    "if __name__ == \"__main__\":\n",
    "    main()\n"
   ]
  },
  {
   "cell_type": "markdown",
   "id": "b714086b",
   "metadata": {},
   "source": [
    "8. Crear una función llamada calcular_imc(peso, altura) que reciba el\n",
    "peso en kilogramos y la altura en metros, y devuelva el índice de\n",
    "masa corporal (IMC). Solicitar al usuario los datos y llamar a la función\n",
    "para mostrar el resultado con dos decimales."
   ]
  },
  {
   "cell_type": "code",
   "execution_count": null,
   "id": "4665883b",
   "metadata": {},
   "outputs": [],
   "source": [
    "def main():\n",
    "    altura = fun.leer_entero_validado_int(\"Ingrese su altura en centimetros\",1)\n",
    "    peso = fun.leer_entero_validado_float(\"Ingrese su peso en kilogramos\",1)\n",
    "    imc = fun.calcular_imc(altura, peso)\n",
    "    print(f\"Su indice de masa corporal es: {imc}\")\n",
    "    \n",
    "if __name__ == \"__main__\":\n",
    "    main()"
   ]
  },
  {
   "cell_type": "markdown",
   "id": "a627681a",
   "metadata": {},
   "source": [
    "9. Crear una función llamada celsius_a_fahrenheit(celsius) que reciba\n",
    "una temperatura en grados Celsius y devuelva su equivalente en\n",
    "Fahrenheit. Pedir al usuario la temperatura en Celsius y mostrar el\n",
    "resultado usando la función."
   ]
  },
  {
   "cell_type": "code",
   "execution_count": 3,
   "id": "de66549a",
   "metadata": {},
   "outputs": [
    {
     "name": "stdout",
     "output_type": "stream",
     "text": [
      "0° celsius son 32.00° fharenheit\n"
     ]
    }
   ],
   "source": [
    "def main():\n",
    "    celsius = fun.leer_entero_validado_int(\"Ingrese los grados en celsius como un numero entero\")\n",
    "    fahrenheit = fun.celsius_a_fharenheit(celsius)\n",
    "    print(f\"{celsius}° celsius son {fahrenheit:.2f}° fharenheit\")\n",
    "    \n",
    "if __name__ == \"__main__\":\n",
    "    main()"
   ]
  },
  {
   "cell_type": "markdown",
   "id": "7a151ace",
   "metadata": {},
   "source": [
    "10.Crear una función llamada calcular_promedio(a, b, c) que reciba\n",
    "tres números como parámetros y devuelva el promedio de ellos.\n",
    "Solicitar los números al usuario y mostrar el resultado usando esta\n",
    "función."
   ]
  },
  {
   "cell_type": "code",
   "execution_count": 6,
   "id": "9dd80dfd",
   "metadata": {},
   "outputs": [
    {
     "name": "stdout",
     "output_type": "stream",
     "text": [
      "El primedio entre los numeros 5, 3 y 2 es 3.33\n"
     ]
    }
   ],
   "source": [
    "def main():\n",
    "    num1 = fun.leer_entero_validado_int(\"Ingrese el primer numero para calcular el primedio\", 1)\n",
    "    num2 = fun.leer_entero_validado_int(\"Ingrese el segundo numero para calcular el primedio\", 1)\n",
    "    num3 = fun.leer_entero_validado_int(\"Ingrese el tercer numero para calcular el primedio\", 1)\n",
    "    promedio = fun.calcular_promedio(num1, num2, num3)\n",
    "    \n",
    "    print(f\"El primedio entre los numeros {num1}, {num2} y {num3} es {promedio:.2f}\")\n",
    "    \n",
    "if __name__ == \"__main__\":\n",
    "    main()"
   ]
  },
  {
   "cell_type": "code",
   "execution_count": 2,
   "id": "ae8735c2",
   "metadata": {},
   "outputs": [
    {
     "name": "stdout",
     "output_type": "stream",
     "text": [
      "El promedio entre los numeros [1, 2, 3, 4, 5, 6, 7, 8, 9, 10] es 5.50\n"
     ]
    }
   ],
   "source": [
    "def main():\n",
    "    numeros = fun.ingresar_lista_numeros(\"Ingrese la cantidad de numeros que desea ingresar para calcular el promedio\")\n",
    "    promedio = fun.promedio_lista(numeros)\n",
    "    \n",
    "    print(f\"El promedio entre los numeros {numeros} es {promedio:.2f}\")\n",
    "    \n",
    "if __name__ == \"__main__\":\n",
    "    main()"
   ]
  }
 ],
 "metadata": {
  "kernelspec": {
   "display_name": ".env",
   "language": "python",
   "name": "python3"
  },
  "language_info": {
   "codemirror_mode": {
    "name": "ipython",
    "version": 3
   },
   "file_extension": ".py",
   "mimetype": "text/x-python",
   "name": "python",
   "nbconvert_exporter": "python",
   "pygments_lexer": "ipython3",
   "version": "3.11.9"
  }
 },
 "nbformat": 4,
 "nbformat_minor": 5
}
