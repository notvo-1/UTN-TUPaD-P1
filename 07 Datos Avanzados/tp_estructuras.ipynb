{
 "cells": [
  {
   "cell_type": "markdown",
   "id": "acecce54",
   "metadata": {},
   "source": [
    "1) Dado el diccionario \n",
    "precios_frutas precios_frutas = {'Banana': 1200, 'Ananá': 2500, 'Melón': 3000, 'Uva': 1450} \n",
    "Añadir las siguientes frutas con sus respectivos precios:\n",
    "\n",
    "● Naranja = 1200\n",
    "\n",
    "● Manzana = 1500\n",
    "\n",
    "● Pera = 2300"
   ]
  },
  {
   "cell_type": "code",
   "execution_count": 1,
   "id": "f836fa3b",
   "metadata": {},
   "outputs": [
    {
     "name": "stdout",
     "output_type": "stream",
     "text": [
      "{'Banana': 1200, 'Ananá': 2500, 'Melón': 3000, 'Uva': 1450, 'Naranja': 1200, 'Manzana': 1500, 'Pera': 2300}\n"
     ]
    }
   ],
   "source": [
    "precios_frutas = {'Banana': 1200, 'Ananá': 2500, 'Melón': 3000, 'Uva': 1450}\n",
    " \n",
    "precios_frutas[\"Naranja\"] = 1200\n",
    "precios_frutas[\"Manzana\"] = 1500\n",
    "precios_frutas[\"Pera\"] = 2300\n",
    "\n",
    "print(precios_frutas)"
   ]
  },
  {
   "cell_type": "markdown",
   "id": "f5c05728",
   "metadata": {},
   "source": [
    "2) Siguiendo con el diccionario precios_frutas que resulta luego de ejecutar el código desarrollado en el punto anterior, actualizar los precios de las siguientes frutas:\n",
    "\n",
    "● Banana = 1330\n",
    "\n",
    "● Manzana = 1700"
   ]
  },
  {
   "cell_type": "code",
   "execution_count": 2,
   "id": "0a8f65e1",
   "metadata": {},
   "outputs": [
    {
     "name": "stdout",
     "output_type": "stream",
     "text": [
      "{'Banana': 1330, 'Ananá': 2500, 'Melón': 3000, 'Uva': 1450, 'Naranja': 1200, 'Manzana': 1700, 'Pera': 2300}\n"
     ]
    }
   ],
   "source": [
    "precios_frutas[\"Banana\"] = 1330\n",
    "precios_frutas[\"Manzana\"] = 1700\n",
    "\n",
    "print(precios_frutas)"
   ]
  },
  {
   "cell_type": "markdown",
   "id": "14314624",
   "metadata": {},
   "source": [
    "3) Siguiendo con el diccionario precios_frutas que resulta luego de ejecutar el código desarrollado en el punto anterior, crear una lista que contenga únicamente las frutas sin los precios."
   ]
  },
  {
   "cell_type": "code",
   "execution_count": 6,
   "id": "c7d9c480",
   "metadata": {},
   "outputs": [
    {
     "name": "stdout",
     "output_type": "stream",
     "text": [
      "['Banana', 'Ananá', 'Melón', 'Uva', 'Naranja', 'Manzana', 'Pera']\n"
     ]
    }
   ],
   "source": [
    "precios = list(precios_frutas.keys())\n",
    "\n",
    "print(precios)"
   ]
  },
  {
   "attachments": {
    "image.png": {
     "image/png": "[encoded data removed]"
    }
   },
   "cell_type": "markdown",
   "id": "b6a223be",
   "metadata": {},
   "source": [
    "4) Escribí un programa que permita almacenar y consultar números telefónicos.\n",
    "\n",
    "• Permití al usuario cargar 5 contactos con su nombre como clave y número como valor.\n",
    "\n",
    "• Luego, pedí un nombre y mostrale el número asociado, si existe.\n",
    "\n",
    "![image.png](attachment:image.png)"
   ]
  },
  {
   "cell_type": "code",
   "execution_count": null,
   "id": "bee9a0dd",
   "metadata": {},
   "outputs": [],
   "source": [
    "class Agenda:\n",
    "    def __init__(self):\n",
    "        self.agenda = {}\n",
    "    \n",
    "    def agregar_agenda(self, nombre, numero):\n",
    "        \n",
    "        if not self.contacto_existente(nombre): \n",
    "            if self.isint(numero):           \n",
    "                self.agenda[nombre] = numero\n",
    "            else:\n",
    "                print(\"Error!, ingrese un numero valido para el numero de contacto\")\n",
    "        else:\n",
    "            print(f\"El nombre ya existe en la agenda\")     \n",
    "    \n",
    "    def contacto_existente(self, nombre):\n",
    "        return nombre in self.agenda\n",
    "    \n",
    "    def buscar_contacto(self, nombre):\n",
    "        if self.contacto_existente(nombre):\n",
    "            print(list(self.agenda[nombre]))\n",
    "        else:\n",
    "            print(f\"El contacto no existe\")\n",
    "    \n",
    "    def isint(self, numero:str):\n",
    "        if numero.isdigit():\n",
    "            return int(numero)\n",
    "        return False\n",
    "\n",
    "\n",
    "    \n",
    "        "
   ]
  }
 ],
 "metadata": {
  "kernelspec": {
   "display_name": ".env",
   "language": "python",
   "name": "python3"
  },
  "language_info": {
   "codemirror_mode": {
    "name": "ipython",
    "version": 3
   },
   "file_extension": ".py",
   "mimetype": "text/x-python",
   "name": "python",
   "nbconvert_exporter": "python",
   "pygments_lexer": "ipython3",
   "version": "3.11.9"
  }
 },
 "nbformat": 4,
 "nbformat_minor": 5
}
