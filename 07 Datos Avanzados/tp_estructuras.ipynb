{
 "cells": [
  {
   "cell_type": "markdown",
   "id": "acecce54",
   "metadata": {},
   "source": [
    "1) Dado el diccionario \n",
    "precios_frutas precios_frutas = {'Banana': 1200, 'Ananá': 2500, 'Melón': 3000, 'Uva': 1450} \n",
    "Añadir las siguientes frutas con sus respectivos precios:\n",
    "\n",
    "● Naranja = 1200\n",
    "\n",
    "● Manzana = 1500\n",
    "\n",
    "● Pera = 2300"
   ]
  },
  {
   "cell_type": "code",
   "execution_count": 1,
   "id": "f836fa3b",
   "metadata": {},
   "outputs": [
    {
     "name": "stdout",
     "output_type": "stream",
     "text": [
      "{'Banana': 1200, 'Ananá': 2500, 'Melón': 3000, 'Uva': 1450, 'Naranja': 1200, 'Manzana': 1500, 'Pera': 2300}\n"
     ]
    }
   ],
   "source": [
    "precios_frutas = {'Banana': 1200, 'Ananá': 2500, 'Melón': 3000, 'Uva': 1450}\n",
    " \n",
    "precios_frutas[\"Naranja\"] = 1200\n",
    "precios_frutas[\"Manzana\"] = 1500\n",
    "precios_frutas[\"Pera\"] = 2300\n",
    "\n",
    "print(precios_frutas)"
   ]
  },
  {
   "cell_type": "markdown",
   "id": "f5c05728",
   "metadata": {},
   "source": [
    "2) Siguiendo con el diccionario precios_frutas que resulta luego de ejecutar el código desarrollado en el punto anterior, actualizar los precios de las siguientes frutas:\n",
    "\n",
    "● Banana = 1330\n",
    "\n",
    "● Manzana = 1700"
   ]
  },
  {
   "cell_type": "code",
   "execution_count": 2,
   "id": "0a8f65e1",
   "metadata": {},
   "outputs": [
    {
     "name": "stdout",
     "output_type": "stream",
     "text": [
      "{'Banana': 1330, 'Ananá': 2500, 'Melón': 3000, 'Uva': 1450, 'Naranja': 1200, 'Manzana': 1700, 'Pera': 2300}\n"
     ]
    }
   ],
   "source": [
    "precios_frutas[\"Banana\"] = 1330\n",
    "precios_frutas[\"Manzana\"] = 1700\n",
    "\n",
    "print(precios_frutas)"
   ]
  },
  {
   "cell_type": "markdown",
   "id": "14314624",
   "metadata": {},
   "source": [
    "3) Siguiendo con el diccionario precios_frutas que resulta luego de ejecutar el código desarrollado en el punto anterior, crear una lista que contenga únicamente las frutas sin los precios."
   ]
  },
  {
   "cell_type": "code",
   "execution_count": null,
   "id": "c7d9c480",
   "metadata": {},
   "outputs": [
    {
     "name": "stdout",
     "output_type": "stream",
     "text": [
      "['Banana', 'Ananá', 'Melón', 'Uva', 'Naranja', 'Manzana', 'Pera']\n"
     ]
    }
   ],
   "source": [
    "precios = list(precios_frutas.keys())\n",
    "\n",
    "print(precios)"
   ]
  },
  {
   "attachments": {
    "image.png": {
     "image/png": "[encoded data removed]"
    }
   },
   "cell_type": "markdown",
   "id": "b6a223be",
   "metadata": {},
   "source": [
    "4) Escribí un programa que permita almacenar y consultar números telefónicos.\n",
    "\n",
    "• Permití al usuario cargar 5 contactos con su nombre como clave y número como valor.\n",
    "\n",
    "• Luego, pedí un nombre y mostrale el número asociado, si existe.\n",
    "\n",
    "![image.png](attachment:image.png)"
   ]
  },
  {
   "cell_type": "code",
   "execution_count": null,
   "id": "bee9a0dd",
   "metadata": {},
   "outputs": [
    {
     "name": "stdout",
     "output_type": "stream",
     "text": [
      "MENU\n",
      "1- Agregar nuevo contacto\n",
      "2- Buscar contacto\n",
      "3- Elminiar contacto\n",
      "0- Salir\n",
      "INGRESO DE NUEVO CONTACTO\n",
      "Opcion incorrecta, intente nuevamente\n",
      "MENU\n",
      "1- Agregar nuevo contacto\n",
      "2- Buscar contacto\n",
      "3- Elminiar contacto\n",
      "0- Salir\n",
      "INGRESO DE NUEVO CONTACTO\n",
      "El nombre ya existe en la agenda\n",
      "Opcion incorrecta, intente nuevamente\n",
      "MENU\n",
      "1- Agregar nuevo contacto\n",
      "2- Buscar contacto\n",
      "3- Elminiar contacto\n",
      "0- Salir\n",
      "Ingrese el nombre del contacto a verificar\n",
      "Contacto: Matias Num. Tel: 12345\n",
      "Opcion incorrecta, intente nuevamente\n",
      "MENU\n",
      "1- Agregar nuevo contacto\n",
      "2- Buscar contacto\n",
      "3- Elminiar contacto\n",
      "0- Salir\n",
      "Opcion incorrecta, intente nuevamente\n",
      "MENU\n",
      "1- Agregar nuevo contacto\n",
      "2- Buscar contacto\n",
      "3- Elminiar contacto\n",
      "0- Salir\n",
      "Opcion incorrecta, intente nuevamente\n",
      "MENU\n",
      "1- Agregar nuevo contacto\n",
      "2- Buscar contacto\n",
      "3- Elminiar contacto\n",
      "0- Salir\n",
      "Opcion incorrecta, intente nuevamente\n",
      "MENU\n",
      "1- Agregar nuevo contacto\n",
      "2- Buscar contacto\n",
      "3- Elminiar contacto\n",
      "0- Salir\n",
      "Opcion incorrecta, intente nuevamente\n",
      "MENU\n",
      "1- Agregar nuevo contacto\n",
      "2- Buscar contacto\n",
      "3- Elminiar contacto\n",
      "0- Salir\n",
      "Ingrese el nombre del contacto a verificar\n",
      "Contacto: Matias Num. Tel: 12345\n",
      "Opcion incorrecta, intente nuevamente\n",
      "MENU\n",
      "1- Agregar nuevo contacto\n",
      "2- Buscar contacto\n",
      "3- Elminiar contacto\n",
      "0- Salir\n",
      "Fin del programa\n"
     ]
    }
   ],
   "source": [
    "class Agenda:\n",
    "    def __init__(self):\n",
    "        self.agenda = {}\n",
    "    \n",
    "    def agregar_agenda(self, nombre, numero):\n",
    "        \n",
    "        if not self.contacto_existente(nombre): \n",
    "            if self.isint(numero):           \n",
    "                self.agenda[nombre] = numero\n",
    "            else:\n",
    "                print(\"Error!, ingrese un numero valido para el numero de contacto\")\n",
    "        else:\n",
    "            print(f\"El nombre ya existe en la agenda\")     \n",
    "    \n",
    "    def contacto_existente(self, nombre):\n",
    "        return nombre in self.agenda\n",
    "    \n",
    "    def consultar(self, nombre):\n",
    "        if self.contacto_existente(nombre):\n",
    "            print(f\"Contacto: {nombre} Num. Tel: {self.agenda[nombre]}\")\n",
    "        else:\n",
    "            print(f\"El contacto no existe\")\n",
    "    \n",
    "    def isint(self, numero:str):\n",
    "        if numero.isdigit():\n",
    "            return int(numero)\n",
    "        return False\n",
    "    \n",
    "    def delete(self, nombre):\n",
    "        print (self.agenda.pop(nombre, \"El contacto no existe\"))\n",
    "\n",
    "\n",
    "agenda = Agenda()\n",
    "while True:\n",
    "    print(\"MENU\")\n",
    "    print(\"1- Agregar nuevo contacto\")\n",
    "    print(\"2- Buscar contacto\")\n",
    "    print(\"3- Eliminar contacto\")\n",
    "    print(\"0- Salir\")\n",
    "    opcion = input(\"Elija una opcion: \")\n",
    "    if opcion == \"1\":\n",
    "        print(\"INGRESO DE NUEVO CONTACTO\")\n",
    "        nombre = input(\"Ingrese un nombre para el contacto nuevo: \")\n",
    "        numero = input(\"Ingrese el numero para el contacto nuevo: \")\n",
    "        agenda.agregar_agenda(nombre, numero)\n",
    "    elif opcion == \"2\":\n",
    "        print(\"Ingrese el nombre del contacto a verificar\")\n",
    "        nombre = input(\"Ingrese un nombre para el contacto nuevo: \")\n",
    "        agenda.consultar(nombre)\n",
    "    elif opcion == \"3\":\n",
    "        print(\"BORRAR CONTACTO\")\n",
    "        nombre = input(\"Ingrese el nombre del contacto a eliminar: \")\n",
    "        agenda.delete(nombre)\n",
    "        \n",
    "    elif opcion == \"0\":\n",
    "        break\n",
    "    else:\n",
    "        print(\"Opcion incorrecta, intente nuevamente\")\n",
    "print(\"Fin del programa\")\n",
    "        "
   ]
  },
  {
   "cell_type": "markdown",
   "id": "d59f2452",
   "metadata": {},
   "source": [
    "5) Solicita al usuario una frase e imprime:\n",
    "\n",
    "• Las palabras únicas (usando un set).\n",
    "\n",
    "• Un diccionario con la cantidad de veces que aparece cada palabra."
   ]
  },
  {
   "cell_type": "code",
   "execution_count": 16,
   "id": "c6e07fa8",
   "metadata": {},
   "outputs": [
    {
     "name": "stdout",
     "output_type": "stream",
     "text": [
      "El set que se forma con la palabra HOOLLAAASUUUUM es {'A', 'M', 'L', 'S', 'U', 'O', 'H'}\n",
      "El resultado del conteo de letras que se forma con la palabra HOOLLAAASUUUUM es {'H': 1, 'O': 2, 'L': 2, 'A': 3, 'S': 1, 'U': 4, 'M': 1}\n"
     ]
    }
   ],
   "source": [
    "def convertir_set(palabra):\n",
    "    return set(palabra)\n",
    "\n",
    "def contar_letras(palabras):\n",
    "    cuenta = {}\n",
    "    for i in palabras:\n",
    "        if i in cuenta:\n",
    "            cuenta[i] += 1\n",
    "        else:\n",
    "            cuenta[i] = 1\n",
    "    return cuenta\n",
    "\n",
    "palabra = input(\"Ingrese una palabra\").upper()\n",
    "\n",
    "set_palabra = convertir_set(palabra)\n",
    "\n",
    "dic_palabra = contar_letras(palabra)\n",
    "\n",
    "print(f\"El set que se forma con la palabra {palabra} es {set_palabra}\")\n",
    "print(f\"El resultado del conteo de letras que se forma con la palabra {palabra} es {dic_palabra}\")"
   ]
  },
  {
   "cell_type": "markdown",
   "id": "b668dda5",
   "metadata": {},
   "source": [
    "6) Permití ingresar los nombres de 3 alumnos, y para cada uno una tupla de 3 notas. Luego, mostrá el promedio de cada alumno."
   ]
  },
  {
   "cell_type": "code",
   "execution_count": 19,
   "id": "4dbdf358",
   "metadata": {},
   "outputs": [
    {
     "name": "stdout",
     "output_type": "stream",
     "text": [
      "{'Matias': (5, 6, 7), 'Jacqui': (7, 8, 9), 'Tommy': (8, 9, 10)}\n",
      "El promedio de notas de Matias es 6.0\n",
      "El promedio de notas de Jacqui es 8.0\n",
      "El promedio de notas de Tommy es 9.0\n"
     ]
    }
   ],
   "source": [
    "n_notas = 3\n",
    "n_alumno = 3\n",
    "notas = {}\n",
    "\n",
    "for i in range(1 ,n_alumno + 1):\n",
    "    l_notas = []\n",
    "    nombre = input(\"Ingrese el nombre del alumno: \")\n",
    "    for j in range(1, n_notas + 1):\n",
    "        nota = int(input(f\"Ingrese la nota {j} del alumno numero {i}: \"))\n",
    "        l_notas.append(nota)\n",
    "    notas[nombre] = tuple(l_notas)\n",
    "    \n",
    "print(notas)\n",
    "\n",
    "for nombre, calificaciones in notas.items():\n",
    "    suma = 0\n",
    "    for i in calificaciones:\n",
    "        suma += i\n",
    "    promedio = suma/len(calificaciones)\n",
    "    print(f\"El promedio de notas de {nombre} es {promedio}\")\n",
    "\n",
    "        \n",
    "    "
   ]
  },
  {
   "cell_type": "markdown",
   "id": "5a33c6f5",
   "metadata": {},
   "source": [
    "7) Dado dos sets de números, representando dos listas de estudiantes que aprobaron Parcial 1 y Parcial 2:\n",
    "\n",
    "• Mostrá los que aprobaron ambos parciales.\n",
    "\n",
    "• Mostrá los que aprobaron solo uno de los dos.\n",
    "\n",
    "• Mostrá la lista total de estudiantes que aprobaron al menos un parcial (sin repetir)."
   ]
  },
  {
   "cell_type": "code",
   "execution_count": null,
   "id": "5d9fa8a9",
   "metadata": {},
   "outputs": [],
   "source": []
  },
  {
   "cell_type": "markdown",
   "id": "341bcf71",
   "metadata": {},
   "source": [
    "8) Armá un diccionario donde las claves sean nombres de productos y los valores su stock. Permití al usuario:\n",
    "\n",
    "• Consultar el stock de un producto ingresado.\n",
    "\n",
    "• Agregar unidades al stock si el producto ya existe.\n",
    "\n",
    "• Agregar un nuevo producto si no existe."
   ]
  },
  {
   "cell_type": "code",
   "execution_count": null,
   "id": "b95b288b",
   "metadata": {},
   "outputs": [],
   "source": [
    "def agregar_producto(item, precio):\n",
    "    pass\n",
    "\n",
    "def consultar_stock(item):\n",
    "    pass\n",
    "\n",
    "def crear_producto(item, precio).\n",
    "    pass\n",
    "\n"
   ]
  },
  {
   "cell_type": "markdown",
   "id": "bca46545",
   "metadata": {},
   "source": [
    "9) Creá una agenda donde las claves sean tuplas de (día, hora) y los valores sean eventos.\n"
   ]
  },
  {
   "cell_type": "code",
   "execution_count": null,
   "id": "f5697eba",
   "metadata": {},
   "outputs": [],
   "source": []
  },
  {
   "cell_type": "markdown",
   "id": "f1b24c4c",
   "metadata": {},
   "source": [
    "10) Dado un diccionario que mapea nombres de países con sus capitales, construí un nuevo diccionario donde:\n",
    "• Las capitales sean las claves.\n",
    "• Los países sean los valores."
   ]
  },
  {
   "cell_type": "code",
   "execution_count": null,
   "id": "c9b15883",
   "metadata": {},
   "outputs": [],
   "source": []
  }
 ],
 "metadata": {
  "kernelspec": {
   "display_name": ".env",
   "language": "python",
   "name": "python3"
  },
  "language_info": {
   "codemirror_mode": {
    "name": "ipython",
    "version": 3
   },
   "file_extension": ".py",
   "mimetype": "text/x-python",
   "name": "python",
   "nbconvert_exporter": "python",
   "pygments_lexer": "ipython3",
   "version": "3.11.9"
  }
 },
 "nbformat": 4,
 "nbformat_minor": 5
}
