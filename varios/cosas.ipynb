{
 "cells": [
  {
   "cell_type": "code",
   "execution_count": 59,
   "id": "e36f9a65",
   "metadata": {},
   "outputs": [],
   "source": [
    "import pandas as pd\n",
    "\n",
    "\n",
    "ruta = r\"D:\\salvar\\Documentos\\TUP\\1er cuatrimestre\\pro1\\codigo_materia\\UTN-TUPaD-P1\\zz\\TUPaD-AySO Examen Primer Parcial-calificaciones.csv\"\n",
    "df = pd.read_csv(ruta, encoding='latin-1', sep=\"\\t\")\n",
    "\n",
    "df = df.rename(columns={\n",
    "    \"Direcciï¿½n de correo\":\"Correo\",\n",
    "    \"Comenzado el\":\"Comienzo\",\n",
    "    \"Calificaciï¿½n/100,00\":\"Nota sobre 100\"\n",
    "})"
   ]
  },
  {
   "cell_type": "code",
   "execution_count": null,
   "id": "8c3d1fe7",
   "metadata": {},
   "outputs": [
    {
     "name": "stdout",
     "output_type": "stream",
     "text": [
      "Total estudiantes:  1009\n",
      "Porcentaje de aprobados:  66.6\n",
      "Cantidad de aprobados: 672\n",
      "Promedio general de nota: 8.04\n"
     ]
    }
   ],
   "source": [
    "\n",
    "\n",
    "df[\"Nota Final\"] = pd.to_numeric(df[\"Nota Final\"], errors='coerce')\n",
    "\n",
    "total = df.shape[0]\n",
    "\n",
    "\n",
    "aprobados = df[df[\"Nota Final\"] >= 6]\n",
    "\n",
    "\n",
    "cantidad_aprobados = aprobados.shape[0]\n",
    "\n",
    "\n",
    "promedio_general = df[\"Nota Final\"].mean()\n",
    "\n",
    "\n",
    "porcentaje_aprobados = (cantidad_aprobados/total)*100\n",
    "\n",
    "print(\"Total estudiantes: \", total)\n",
    "print(\"Porcentaje de aprobados: \", round(porcentaje_aprobados, 2))\n",
    "print(\"Cantidad de aprobados:\", cantidad_aprobados)\n",
    "print(\"Promedio general de nota:\", round(promedio_general, 2))\n"
   ]
  },
  {
   "cell_type": "code",
   "execution_count": 57,
   "id": "fe023800",
   "metadata": {},
   "outputs": [
    {
     "name": "stdout",
     "output_type": "stream",
     "text": [
      "El promedio de aprobados es:  9.98\n",
      "Cantidad que cumplen la condicion:  24\n",
      "          Apellido(s)          Nombre  Nota Final\n",
      "42             ROMANO  MATIAS ANTONIO        10.0\n",
      "90              PEREZ  LEANDRO MATIAS        10.0\n",
      "104   BOYER RODRIGUEZ    MATIAS RUBEN         9.0\n",
      "113          FERREYRA          MATIAS        10.0\n",
      "144          ORELLANA  MATIAS GABRIEL        10.0\n",
      "177          SCALELLA  MATIAS NICOLAS        10.0\n",
      "258             UHRIG   LEONEL MATIAS        10.0\n",
      "277              HIGA  MATIAS NICOLAS        10.0\n",
      "280          DICHIARA   HERNAN MATIAS        10.0\n",
      "297           CARRIZO    DIEGO MATIAS        10.0\n",
      "373             CORZO   MATIAS GERMAN        10.0\n",
      "403        ZENOCRATTI  LEANDRO MATIAS        10.0\n",
      "465              RODA          MATIAS        10.0\n",
      "486         DAGOSTINO   MATIAS JULIAN        10.0\n",
      "537             LOPEZ  VICENTE MATIAS        10.0\n",
      "568        COSTANTINI          MATIAS        10.0\n",
      "610           GIRALDO          MATIAS        10.0\n",
      "654         FRIEDMANN          MATIAS        10.0\n",
      "707         RODRIGUEZ          MATIAS        10.0\n",
      "720  ALVAREZ MESEGUES     JOSE MATIAS        10.0\n",
      "736          BEJARANO  MATIAS OSVALDO        10.0\n",
      "764            DELUCA    MATIAS ARIEL        10.0\n",
      "800            CORREA  MATIAS GABRIEL        10.0\n",
      "836            FARFAN   MATIAS GASTON        10.0\n"
     ]
    }
   ],
   "source": [
    "# prueba = df[\"Nota Final\"] >= 6\n",
    "# df[prueba].shape[0]\n",
    "\n",
    "# filtro = df[df[\"Apellido(s)\"]==\"ORELLANA\"] #filtrar por apellido\n",
    "# filtro = df.loc[df[\"Apellido(s)\"].str.contains(\"ore\", case=False),[\"Apellido(s)\",\"Nombre\", \"Nota Final\"]] #Filtrar por apellido mostrando 3 columnas\n",
    "# filtro = df[df[\"Nombre\"].str.contains(\"MaTIaS\", case=False)][[\"Apellido(s)\", \"Nombre\", \"Nota Final\"]] #Otra forma de hacer lo mismo\n",
    "# filtro = df[(df[\"Nota Final\"] >= 8) & (df[\"Nota Final\"] <= 10)][[\"Apellido(s)\", \"Nombre\", \"Nota Final\"]] #filtro con mas de una condicon y filtrando por columnas\n",
    "filtro = df.loc[(df[\"Nota Final\"]>= 6) & (df[\"Nombre\"].str.contains(\"MatiaS\", case=False)),[\"Apellido(s)\", \"Nombre\", \"Nota Final\"]]\n",
    "\n",
    "media_aprobados = df[(df[\"Nota Final\"] >=6)][\"Nota Final\"].mean()\n",
    "print(f\"El promedio de aprobados es: \", round(media_aprobados, 2))\n",
    "\n",
    "print(f\"Cantidad que cumplen la condicion: \", filtro.shape[0])\n",
    "print(filtro) "
   ]
  },
  {
   "cell_type": "code",
   "execution_count": 60,
   "id": "f1047a08",
   "metadata": {},
   "outputs": [
    {
     "data": {
      "text/plain": [
       "['Apellido(s)',\n",
       " 'Nombre',\n",
       " 'Correo',\n",
       " 'Estado',\n",
       " 'Comienzo',\n",
       " 'Finalizado',\n",
       " 'Tiempo requerido',\n",
       " 'Nota sobre 100',\n",
       " 'Nota Final']"
      ]
     },
     "execution_count": 60,
     "metadata": {},
     "output_type": "execute_result"
    }
   ],
   "source": [
    "df.columns.tolist()"
   ]
  }
 ],
 "metadata": {
  "kernelspec": {
   "display_name": ".env",
   "language": "python",
   "name": "python3"
  },
  "language_info": {
   "codemirror_mode": {
    "name": "ipython",
    "version": 3
   },
   "file_extension": ".py",
   "mimetype": "text/x-python",
   "name": "python",
   "nbconvert_exporter": "python",
   "pygments_lexer": "ipython3",
   "version": "3.11.9"
  }
 },
 "nbformat": 4,
 "nbformat_minor": 5
}
